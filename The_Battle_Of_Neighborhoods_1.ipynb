{
 "cells": [
  {
   "cell_type": "markdown",
   "metadata": {},
   "source": [
    "# The Battle of Neighbourhoods"
   ]
  },
  {
   "cell_type": "markdown",
   "metadata": {},
   "source": [
    "## A description of the problem"
   ]
  },
  {
   "cell_type": "markdown",
   "metadata": {},
   "source": [
    "#### In this project we intend to compare the neighborhoods of some of the world's largest cities and try to segregate them based on similarities between them. For example, New York City and New Delhi are known to be multi cultural and house people from different backgrounds. This has led to an increase in number of multi cuisine restaurants and cafes. Similarly, both the cities have large number of financial corporations, parks, movie theatres, party halls etc. which make them alike. The intent of this analysis is to find clusters of such cities that are more similar to each other as compared to others."
   ]
  },
  {
   "cell_type": "markdown",
   "metadata": {},
   "source": [
    "## Background"
   ]
  },
  {
   "cell_type": "markdown",
   "metadata": {},
   "source": [
    "#### This is an interesting problem to solve due to increasing number of people migrating between cities nowadays. This analysis will help people explore cities with similar neighborhoods and consequently make migration easy and stressfree. It takes a lot of research and effort for anyone to settle in a new city. This analysis will help such people to choose their target city from those that are similar to their current city."
   ]
  },
  {
   "cell_type": "markdown",
   "metadata": {},
   "source": [
    "## Description of Data"
   ]
  },
  {
   "cell_type": "markdown",
   "metadata": {},
   "source": [
    "#### We will use the Foursquare API to explore neighborhoods in various metropolitan cities of the world. We will use the explore function to get the most common venue categories in each city, and then use this feature to group the cities into clusters. The data set that we get though the explore feature of Foursquare API consists of venue details in the vicinity of a location (latitude and longitude). Venue details comprise of Name, location, category and other important details. We filter top venues near the location (or in that city) and use this data to find similarity between cities."
   ]
  },
  {
   "cell_type": "code",
   "execution_count": null,
   "metadata": {},
   "outputs": [],
   "source": []
  }
 ],
 "metadata": {
  "kernelspec": {
   "display_name": "Python 3",
   "language": "python",
   "name": "python3"
  },
  "language_info": {
   "codemirror_mode": {
    "name": "ipython",
    "version": 3
   },
   "file_extension": ".py",
   "mimetype": "text/x-python",
   "name": "python",
   "nbconvert_exporter": "python",
   "pygments_lexer": "ipython3",
   "version": "3.8.5"
  }
 },
 "nbformat": 4,
 "nbformat_minor": 4
}
